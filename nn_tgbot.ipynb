{
  "nbformat": 4,
  "nbformat_minor": 0,
  "metadata": {
    "colab": {
      "provenance": []
    },
    "kernelspec": {
      "name": "python3",
      "display_name": "Python 3"
    },
    "language_info": {
      "name": "python"
    }
  },
  "cells": [
    {
      "cell_type": "code",
      "execution_count": null,
      "metadata": {
        "id": "nMbdEyUtHbcD"
      },
      "outputs": [],
      "source": [
        "import telebot\n",
        "from telebot import types\n",
        "\n",
        "\n",
        "import numpy as np\n",
        "import matplotlib.pyplot as plt\n",
        "from tensorflow.keras.datasets import mnist\n",
        "from tensorflow import keras\n",
        "from google.colab import files\n",
        "from io import BytesIO\n",
        "from PIL import Image\n",
        "import json\n",
        "\n",
        "# from tensorflow.python.keras.preprocessing import image as kp_image\n",
        "\n",
        "from tensorflow.keras.preprocessing import image as kp_image"
      ]
    },
    {
      "cell_type": "code",
      "source": [
        "# creating telegramm bot with convolutional neural network (VGG16 model) which can recognize any image, which user send to it\n",
        "\n",
        "\n",
        "\n",
        "bot = telebot.TeleBot('6835355647:AAHqXche5x7XTeS7_fuWFEU8vx6R7UnMEVk')\n",
        "@bot.message_handler(commands=['start'])\n",
        "def main(message):\n",
        "  bot.send_message(message.chat.id, f\"Hello, {message.from_user.first_name}. Please, give me a photo:)\")\n",
        "\n",
        "@bot.message_handler(content_types=['photo'])\n",
        "def handle_photo(message):\n",
        "    file_id = message.photo[-1].file_id\n",
        "\n",
        "    # Here we get users photo\n",
        "    file_info = bot.get_file(file_id)\n",
        "\n",
        "    # here we downloaded photo\n",
        "    file = bot.download_file(file_info.file_path)\n",
        "\n",
        "    # here we open photo using Pillow\n",
        "    img = Image.open(BytesIO(file))\n",
        "\n",
        "    # here we changing photo size to 224x223 px\n",
        "    img = img.resize((224, 224))\n",
        "\n",
        "    # here we saving photo\n",
        "    output_buffer = BytesIO()\n",
        "    img.save(output_buffer, format='JPEG')\n",
        "\n",
        "    # this string returns changed photo to user (it should be commented)\n",
        "    output_buffer.seek(0)\n",
        "    # bot.send_photo(message.chat.id, photo=output_buffer)\n",
        "\n",
        "\n",
        "\n",
        "\n",
        "# here we open photo one more time\n",
        "    img = Image.open(output_buffer)\n",
        "\n",
        "    # here we changing photo format to RGB to prevent posibble errors\n",
        "    img = img.convert('RGB')\n",
        "\n",
        "    # showing image using plt\n",
        "    plt.imshow(img)\n",
        "    plt.axis('on')  # here we adding an exis\n",
        "    plt.show()\n",
        "\n",
        "\n",
        "    # here we putting image to array format\n",
        "    img = np.array(img)\n",
        "\n",
        "    # here we putting our array to vgg16 neural network model\n",
        "    x = keras.applications.vgg16.preprocess_input(img)\n",
        "    print(x.shape)\n",
        "\n",
        "# using that to put array in (batch_size, height, width, channels)\n",
        "    x = np.expand_dims(x, axis=0)\n",
        "    print(x.shape)\n",
        "\n",
        "    res = model.predict(x)\n",
        "\n",
        "    from google.colab import files\n",
        "\n",
        "# here we aploading 'imagenet_class_index.json' from our computer\n",
        "    # uploaded = files.upload()\n",
        "\n",
        "\n",
        "    with open('/content/imagenet_class_index.json') as f:\n",
        "        class_labels = json.load(f)\n",
        "\n",
        "    predicted_class = np.argmax(res)\n",
        "    # we making our bot rerutn an answer\n",
        "    predicted_class_name = class_labels[str(predicted_class)][1]\n",
        "    bot.send_message(message.chat.id, f\"It looks like {predicted_class_name}. Continue please.\")\n",
        "\n",
        "\n",
        "\n",
        "if __name__ == '__main__':\n",
        "    bot.polling(none_stop=True)\n",
        "\n"
      ],
      "metadata": {
        "id": "u1y5xRI-KKNr"
      },
      "execution_count": null,
      "outputs": []
    },
    {
      "cell_type": "code",
      "source": [
        "model = keras.applications.VGG16()"
      ],
      "metadata": {
        "id": "sFsnPeRYOJBe"
      },
      "execution_count": null,
      "outputs": []
    }
  ]
}